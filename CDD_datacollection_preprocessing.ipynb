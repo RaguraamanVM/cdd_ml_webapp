{
  "nbformat": 4,
  "nbformat_minor": 0,
  "metadata": {
    "colab": {
      "provenance": [],
      "include_colab_link": true
    },
    "kernelspec": {
      "name": "python3",
      "display_name": "Python 3"
    }
  },
  "cells": [
    {
      "cell_type": "markdown",
      "metadata": {
        "id": "view-in-github",
        "colab_type": "text"
      },
      "source": [
        "<a href=\"https://colab.research.google.com/github/RaguraamanVM/cdd_ml_webapp/blob/main/CDD_datacollection_preprocessing.ipynb\" target=\"_parent\"><img src=\"https://colab.research.google.com/assets/colab-badge.svg\" alt=\"Open In Colab\"/></a>"
      ]
    },
    {
      "cell_type": "markdown",
      "metadata": {
        "id": "iryGAwAIQ4yf"
      },
      "source": [
        "## **Installing libraries**"
      ]
    },
    {
      "cell_type": "markdown",
      "metadata": {
        "id": "toGT1U_B7F2i"
      },
      "source": [
        "Install the ChEMBL web service package so that we can retrieve bioactivity data from the ChEMBL Database."
      ]
    },
    {
      "cell_type": "code",
      "metadata": {
        "id": "cJGExHQBfLh7",
        "outputId": "889b0578-4b46-4c0e-be84-baf71eb6158d",
        "colab": {
          "base_uri": "https://localhost:8080/"
        }
      },
      "source": [
        "! pip install chembl_webresource_client"
      ],
      "execution_count": null,
      "outputs": [
        {
          "output_type": "stream",
          "name": "stdout",
          "text": [
            "Collecting chembl_webresource_client\n",
            "  Downloading chembl_webresource_client-0.10.9-py3-none-any.whl (55 kB)\n",
            "\u001b[2K     \u001b[90m━━━━━━━━━━━━━━━━━━━━━━━━━━━━━━━━━━━━━━━━\u001b[0m \u001b[32m55.2/55.2 kB\u001b[0m \u001b[31m1.1 MB/s\u001b[0m eta \u001b[36m0:00:00\u001b[0m\n",
            "\u001b[?25hRequirement already satisfied: urllib3 in /usr/local/lib/python3.10/dist-packages (from chembl_webresource_client) (2.0.7)\n",
            "Requirement already satisfied: requests>=2.18.4 in /usr/local/lib/python3.10/dist-packages (from chembl_webresource_client) (2.31.0)\n",
            "Collecting requests-cache~=1.2 (from chembl_webresource_client)\n",
            "  Downloading requests_cache-1.2.1-py3-none-any.whl (61 kB)\n",
            "\u001b[2K     \u001b[90m━━━━━━━━━━━━━━━━━━━━━━━━━━━━━━━━━━━━━━━━\u001b[0m \u001b[32m61.4/61.4 kB\u001b[0m \u001b[31m3.1 MB/s\u001b[0m eta \u001b[36m0:00:00\u001b[0m\n",
            "\u001b[?25hRequirement already satisfied: easydict in /usr/local/lib/python3.10/dist-packages (from chembl_webresource_client) (1.13)\n",
            "Requirement already satisfied: charset-normalizer<4,>=2 in /usr/local/lib/python3.10/dist-packages (from requests>=2.18.4->chembl_webresource_client) (3.3.2)\n",
            "Requirement already satisfied: idna<4,>=2.5 in /usr/local/lib/python3.10/dist-packages (from requests>=2.18.4->chembl_webresource_client) (3.7)\n",
            "Requirement already satisfied: certifi>=2017.4.17 in /usr/local/lib/python3.10/dist-packages (from requests>=2.18.4->chembl_webresource_client) (2024.6.2)\n",
            "Requirement already satisfied: attrs>=21.2 in /usr/local/lib/python3.10/dist-packages (from requests-cache~=1.2->chembl_webresource_client) (23.2.0)\n",
            "Collecting cattrs>=22.2 (from requests-cache~=1.2->chembl_webresource_client)\n",
            "  Downloading cattrs-23.2.3-py3-none-any.whl (57 kB)\n",
            "\u001b[2K     \u001b[90m━━━━━━━━━━━━━━━━━━━━━━━━━━━━━━━━━━━━━━━━\u001b[0m \u001b[32m57.5/57.5 kB\u001b[0m \u001b[31m3.7 MB/s\u001b[0m eta \u001b[36m0:00:00\u001b[0m\n",
            "\u001b[?25hRequirement already satisfied: platformdirs>=2.5 in /usr/local/lib/python3.10/dist-packages (from requests-cache~=1.2->chembl_webresource_client) (4.2.2)\n",
            "Collecting url-normalize>=1.4 (from requests-cache~=1.2->chembl_webresource_client)\n",
            "  Downloading url_normalize-1.4.3-py2.py3-none-any.whl (6.8 kB)\n",
            "Requirement already satisfied: exceptiongroup>=1.1.1 in /usr/local/lib/python3.10/dist-packages (from cattrs>=22.2->requests-cache~=1.2->chembl_webresource_client) (1.2.1)\n",
            "Requirement already satisfied: typing-extensions!=4.6.3,>=4.1.0 in /usr/local/lib/python3.10/dist-packages (from cattrs>=22.2->requests-cache~=1.2->chembl_webresource_client) (4.12.2)\n",
            "Requirement already satisfied: six in /usr/local/lib/python3.10/dist-packages (from url-normalize>=1.4->requests-cache~=1.2->chembl_webresource_client) (1.16.0)\n",
            "Installing collected packages: url-normalize, cattrs, requests-cache, chembl_webresource_client\n",
            "Successfully installed cattrs-23.2.3 chembl_webresource_client-0.10.9 requests-cache-1.2.1 url-normalize-1.4.3\n"
          ]
        }
      ]
    },
    {
      "cell_type": "markdown",
      "metadata": {
        "id": "J0kJjL8gb5nX"
      },
      "source": [
        "## **Importing libraries**"
      ]
    },
    {
      "cell_type": "code",
      "metadata": {
        "id": "RXoCvMPPfNrv"
      },
      "source": [
        "# Import necessary libraries\n",
        "import pandas as pd\n",
        "from chembl_webresource_client.new_client import new_client"
      ],
      "execution_count": null,
      "outputs": []
    },
    {
      "cell_type": "markdown",
      "metadata": {
        "id": "1FgUai1bfigC"
      },
      "source": [
        "## **Search for Target protein**"
      ]
    },
    {
      "cell_type": "markdown",
      "metadata": {
        "id": "7lBsDrD0gAqH"
      },
      "source": [
        "### **Target search for Acetylcholinesterase**"
      ]
    },
    {
      "cell_type": "code",
      "metadata": {
        "id": "Vxtp79so4ZjF",
        "outputId": "3ef2e34d-c476-4596-fc3f-bc2a1ea63614",
        "colab": {
          "base_uri": "https://localhost:8080/",
          "height": 1000
        }
      },
      "source": [
        "# Target search for coronavirus\n",
        "target = new_client.target\n",
        "target_query = target.search('acetylcholinesterase')\n",
        "targets = pd.DataFrame.from_dict(target_query)\n",
        "targets"
      ],
      "execution_count": null,
      "outputs": [
        {
          "output_type": "execute_result",
          "data": {
            "text/plain": [
              "                                     cross_references  \\\n",
              "0   [{'xref_id': 'P22303', 'xref_name': None, 'xre...   \n",
              "1                                                  []   \n",
              "2                                                  []   \n",
              "3                                                  []   \n",
              "4                                                  []   \n",
              "5   [{'xref_id': 'P04058', 'xref_name': None, 'xre...   \n",
              "6   [{'xref_id': 'P21836', 'xref_name': None, 'xre...   \n",
              "7   [{'xref_id': 'P37136', 'xref_name': None, 'xre...   \n",
              "8   [{'xref_id': 'O42275', 'xref_name': None, 'xre...   \n",
              "9   [{'xref_id': 'P23795', 'xref_name': None, 'xre...   \n",
              "10                                                 []   \n",
              "11                                                 []   \n",
              "12                                                 []   \n",
              "13                                                 []   \n",
              "14                                                 []   \n",
              "15  [{'xref_id': 'Q95P20', 'xref_name': None, 'xre...   \n",
              "16                                                 []   \n",
              "17                                                 []   \n",
              "18                                                 []   \n",
              "19                                                 []   \n",
              "20                                                 []   \n",
              "21                                                 []   \n",
              "22                                                 []   \n",
              "23                                                 []   \n",
              "\n",
              "                     organism  \\\n",
              "0                Homo sapiens   \n",
              "1                Homo sapiens   \n",
              "2     Drosophila melanogaster   \n",
              "3              Bemisia tabaci   \n",
              "4   Leptinotarsa decemlineata   \n",
              "5         Torpedo californica   \n",
              "6                Mus musculus   \n",
              "7           Rattus norvegicus   \n",
              "8    Electrophorus electricus   \n",
              "9                  Bos taurus   \n",
              "10          Anopheles gambiae   \n",
              "11     Nephotettix cincticeps   \n",
              "12              Gallus gallus   \n",
              "13                Danio rerio   \n",
              "14              Aedes aegypti   \n",
              "15            Musca domestica   \n",
              "16          Rattus norvegicus   \n",
              "17        Plutella xylostella   \n",
              "18            Musca domestica   \n",
              "19  Pediculus humanus capitis   \n",
              "20          Spodoptera litura   \n",
              "21      Laodelphax striatella   \n",
              "22        Schizaphis graminum   \n",
              "23     Caenorhabditis elegans   \n",
              "\n",
              "                                            pref_name  score  \\\n",
              "0                                Acetylcholinesterase   28.0   \n",
              "1                        Cholinesterases; ACHE & BCHE   28.0   \n",
              "2                                Acetylcholinesterase   18.0   \n",
              "3                                               AChE2   16.0   \n",
              "4                                Acetylcholinesterase   16.0   \n",
              "5                                Acetylcholinesterase   15.0   \n",
              "6                                Acetylcholinesterase   15.0   \n",
              "7                                Acetylcholinesterase   15.0   \n",
              "8                                Acetylcholinesterase   15.0   \n",
              "9                                Acetylcholinesterase   15.0   \n",
              "10                               Acetylcholinesterase   15.0   \n",
              "11               Ace-orthologous acetylcholinesterase   15.0   \n",
              "12                               Acetylcholinesterase   15.0   \n",
              "13                               Acetylcholinesterase   15.0   \n",
              "14                               Acetylcholinesterase   15.0   \n",
              "15                               Acetylcholinesterase   14.0   \n",
              "16  Acetylcholinesterase and butyrylcholinesterase...   14.0   \n",
              "17                               Acetylcholinesterase   14.0   \n",
              "18                               Acetylcholinesterase   14.0   \n",
              "19                               Acetylcholinesterase   14.0   \n",
              "20                               Acetylcholinesterase   14.0   \n",
              "21                               Acetylcholinesterase   14.0   \n",
              "22                               Acetylcholinesterase   14.0   \n",
              "23                             Acetylcholinesterase 1   14.0   \n",
              "\n",
              "    species_group_flag target_chembl_id  \\\n",
              "0                False        CHEMBL220   \n",
              "1                False    CHEMBL2095233   \n",
              "2                False    CHEMBL2242744   \n",
              "3                False    CHEMBL2366409   \n",
              "4                False    CHEMBL2366490   \n",
              "5                False       CHEMBL4780   \n",
              "6                False       CHEMBL3198   \n",
              "7                False       CHEMBL3199   \n",
              "8                False       CHEMBL4078   \n",
              "9                False       CHEMBL4768   \n",
              "10               False    CHEMBL2046266   \n",
              "11               False    CHEMBL2366514   \n",
              "12               False    CHEMBL3227914   \n",
              "13               False    CHEMBL3308995   \n",
              "14               False    CHEMBL4295607   \n",
              "15               False       CHEMBL5752   \n",
              "16               False    CHEMBL2111475   \n",
              "17               False    CHEMBL2242729   \n",
              "18               False    CHEMBL2242743   \n",
              "19               False    CHEMBL2362988   \n",
              "20               False    CHEMBL2366422   \n",
              "21               False    CHEMBL2366446   \n",
              "22               False    CHEMBL2366511   \n",
              "23               False    CHEMBL3341583   \n",
              "\n",
              "                                    target_components        target_type  \\\n",
              "0   [{'accession': 'P22303', 'component_descriptio...     SINGLE PROTEIN   \n",
              "1   [{'accession': 'P06276', 'component_descriptio...  SELECTIVITY GROUP   \n",
              "2   [{'accession': 'P07140', 'component_descriptio...     SINGLE PROTEIN   \n",
              "3   [{'accession': 'B3SST5', 'component_descriptio...     SINGLE PROTEIN   \n",
              "4   [{'accession': 'Q27677', 'component_descriptio...     SINGLE PROTEIN   \n",
              "5   [{'accession': 'P04058', 'component_descriptio...     SINGLE PROTEIN   \n",
              "6   [{'accession': 'P21836', 'component_descriptio...     SINGLE PROTEIN   \n",
              "7   [{'accession': 'P37136', 'component_descriptio...     SINGLE PROTEIN   \n",
              "8   [{'accession': 'O42275', 'component_descriptio...     SINGLE PROTEIN   \n",
              "9   [{'accession': 'P23795', 'component_descriptio...     SINGLE PROTEIN   \n",
              "10  [{'accession': 'Q869C3', 'component_descriptio...     SINGLE PROTEIN   \n",
              "11  [{'accession': 'Q9NJH6', 'component_descriptio...     SINGLE PROTEIN   \n",
              "12  [{'accession': 'P36196', 'component_descriptio...     SINGLE PROTEIN   \n",
              "13  [{'accession': 'Q9DDE3', 'component_descriptio...     SINGLE PROTEIN   \n",
              "14  [{'accession': 'Q6A2E2', 'component_descriptio...     SINGLE PROTEIN   \n",
              "15  [{'accession': 'Q95P20', 'component_descriptio...     SINGLE PROTEIN   \n",
              "16  [{'accession': 'P37136', 'component_descriptio...  SELECTIVITY GROUP   \n",
              "17  [{'accession': 'Q8MZM0', 'component_descriptio...     SINGLE PROTEIN   \n",
              "18  [{'accession': 'Q7YWJ9', 'component_descriptio...     SINGLE PROTEIN   \n",
              "19  [{'accession': 'A2PZ98', 'component_descriptio...     SINGLE PROTEIN   \n",
              "20  [{'accession': 'C5IU80', 'component_descriptio...     SINGLE PROTEIN   \n",
              "21  [{'accession': 'K4JQ36', 'component_descriptio...     SINGLE PROTEIN   \n",
              "22  [{'accession': 'Q9BMJ1', 'component_descriptio...     SINGLE PROTEIN   \n",
              "23  [{'accession': 'P38433', 'component_descriptio...     SINGLE PROTEIN   \n",
              "\n",
              "    tax_id  \n",
              "0     9606  \n",
              "1     9606  \n",
              "2     7227  \n",
              "3     7038  \n",
              "4     7539  \n",
              "5     7787  \n",
              "6    10090  \n",
              "7    10116  \n",
              "8     8005  \n",
              "9     9913  \n",
              "10    7165  \n",
              "11   94400  \n",
              "12    9031  \n",
              "13    7955  \n",
              "14    7159  \n",
              "15    7370  \n",
              "16   10116  \n",
              "17   51655  \n",
              "18    7370  \n",
              "19  121226  \n",
              "20   69820  \n",
              "21  195883  \n",
              "22   13262  \n",
              "23    6239  "
            ],
            "text/html": [
              "\n",
              "  <div id=\"df-78e4785a-76f9-4878-aab4-859b150c7bf2\" class=\"colab-df-container\">\n",
              "    <div>\n",
              "<style scoped>\n",
              "    .dataframe tbody tr th:only-of-type {\n",
              "        vertical-align: middle;\n",
              "    }\n",
              "\n",
              "    .dataframe tbody tr th {\n",
              "        vertical-align: top;\n",
              "    }\n",
              "\n",
              "    .dataframe thead th {\n",
              "        text-align: right;\n",
              "    }\n",
              "</style>\n",
              "<table border=\"1\" class=\"dataframe\">\n",
              "  <thead>\n",
              "    <tr style=\"text-align: right;\">\n",
              "      <th></th>\n",
              "      <th>cross_references</th>\n",
              "      <th>organism</th>\n",
              "      <th>pref_name</th>\n",
              "      <th>score</th>\n",
              "      <th>species_group_flag</th>\n",
              "      <th>target_chembl_id</th>\n",
              "      <th>target_components</th>\n",
              "      <th>target_type</th>\n",
              "      <th>tax_id</th>\n",
              "    </tr>\n",
              "  </thead>\n",
              "  <tbody>\n",
              "    <tr>\n",
              "      <th>0</th>\n",
              "      <td>[{'xref_id': 'P22303', 'xref_name': None, 'xre...</td>\n",
              "      <td>Homo sapiens</td>\n",
              "      <td>Acetylcholinesterase</td>\n",
              "      <td>28.0</td>\n",
              "      <td>False</td>\n",
              "      <td>CHEMBL220</td>\n",
              "      <td>[{'accession': 'P22303', 'component_descriptio...</td>\n",
              "      <td>SINGLE PROTEIN</td>\n",
              "      <td>9606</td>\n",
              "    </tr>\n",
              "    <tr>\n",
              "      <th>1</th>\n",
              "      <td>[]</td>\n",
              "      <td>Homo sapiens</td>\n",
              "      <td>Cholinesterases; ACHE &amp; BCHE</td>\n",
              "      <td>28.0</td>\n",
              "      <td>False</td>\n",
              "      <td>CHEMBL2095233</td>\n",
              "      <td>[{'accession': 'P06276', 'component_descriptio...</td>\n",
              "      <td>SELECTIVITY GROUP</td>\n",
              "      <td>9606</td>\n",
              "    </tr>\n",
              "    <tr>\n",
              "      <th>2</th>\n",
              "      <td>[]</td>\n",
              "      <td>Drosophila melanogaster</td>\n",
              "      <td>Acetylcholinesterase</td>\n",
              "      <td>18.0</td>\n",
              "      <td>False</td>\n",
              "      <td>CHEMBL2242744</td>\n",
              "      <td>[{'accession': 'P07140', 'component_descriptio...</td>\n",
              "      <td>SINGLE PROTEIN</td>\n",
              "      <td>7227</td>\n",
              "    </tr>\n",
              "    <tr>\n",
              "      <th>3</th>\n",
              "      <td>[]</td>\n",
              "      <td>Bemisia tabaci</td>\n",
              "      <td>AChE2</td>\n",
              "      <td>16.0</td>\n",
              "      <td>False</td>\n",
              "      <td>CHEMBL2366409</td>\n",
              "      <td>[{'accession': 'B3SST5', 'component_descriptio...</td>\n",
              "      <td>SINGLE PROTEIN</td>\n",
              "      <td>7038</td>\n",
              "    </tr>\n",
              "    <tr>\n",
              "      <th>4</th>\n",
              "      <td>[]</td>\n",
              "      <td>Leptinotarsa decemlineata</td>\n",
              "      <td>Acetylcholinesterase</td>\n",
              "      <td>16.0</td>\n",
              "      <td>False</td>\n",
              "      <td>CHEMBL2366490</td>\n",
              "      <td>[{'accession': 'Q27677', 'component_descriptio...</td>\n",
              "      <td>SINGLE PROTEIN</td>\n",
              "      <td>7539</td>\n",
              "    </tr>\n",
              "    <tr>\n",
              "      <th>5</th>\n",
              "      <td>[{'xref_id': 'P04058', 'xref_name': None, 'xre...</td>\n",
              "      <td>Torpedo californica</td>\n",
              "      <td>Acetylcholinesterase</td>\n",
              "      <td>15.0</td>\n",
              "      <td>False</td>\n",
              "      <td>CHEMBL4780</td>\n",
              "      <td>[{'accession': 'P04058', 'component_descriptio...</td>\n",
              "      <td>SINGLE PROTEIN</td>\n",
              "      <td>7787</td>\n",
              "    </tr>\n",
              "    <tr>\n",
              "      <th>6</th>\n",
              "      <td>[{'xref_id': 'P21836', 'xref_name': None, 'xre...</td>\n",
              "      <td>Mus musculus</td>\n",
              "      <td>Acetylcholinesterase</td>\n",
              "      <td>15.0</td>\n",
              "      <td>False</td>\n",
              "      <td>CHEMBL3198</td>\n",
              "      <td>[{'accession': 'P21836', 'component_descriptio...</td>\n",
              "      <td>SINGLE PROTEIN</td>\n",
              "      <td>10090</td>\n",
              "    </tr>\n",
              "    <tr>\n",
              "      <th>7</th>\n",
              "      <td>[{'xref_id': 'P37136', 'xref_name': None, 'xre...</td>\n",
              "      <td>Rattus norvegicus</td>\n",
              "      <td>Acetylcholinesterase</td>\n",
              "      <td>15.0</td>\n",
              "      <td>False</td>\n",
              "      <td>CHEMBL3199</td>\n",
              "      <td>[{'accession': 'P37136', 'component_descriptio...</td>\n",
              "      <td>SINGLE PROTEIN</td>\n",
              "      <td>10116</td>\n",
              "    </tr>\n",
              "    <tr>\n",
              "      <th>8</th>\n",
              "      <td>[{'xref_id': 'O42275', 'xref_name': None, 'xre...</td>\n",
              "      <td>Electrophorus electricus</td>\n",
              "      <td>Acetylcholinesterase</td>\n",
              "      <td>15.0</td>\n",
              "      <td>False</td>\n",
              "      <td>CHEMBL4078</td>\n",
              "      <td>[{'accession': 'O42275', 'component_descriptio...</td>\n",
              "      <td>SINGLE PROTEIN</td>\n",
              "      <td>8005</td>\n",
              "    </tr>\n",
              "    <tr>\n",
              "      <th>9</th>\n",
              "      <td>[{'xref_id': 'P23795', 'xref_name': None, 'xre...</td>\n",
              "      <td>Bos taurus</td>\n",
              "      <td>Acetylcholinesterase</td>\n",
              "      <td>15.0</td>\n",
              "      <td>False</td>\n",
              "      <td>CHEMBL4768</td>\n",
              "      <td>[{'accession': 'P23795', 'component_descriptio...</td>\n",
              "      <td>SINGLE PROTEIN</td>\n",
              "      <td>9913</td>\n",
              "    </tr>\n",
              "    <tr>\n",
              "      <th>10</th>\n",
              "      <td>[]</td>\n",
              "      <td>Anopheles gambiae</td>\n",
              "      <td>Acetylcholinesterase</td>\n",
              "      <td>15.0</td>\n",
              "      <td>False</td>\n",
              "      <td>CHEMBL2046266</td>\n",
              "      <td>[{'accession': 'Q869C3', 'component_descriptio...</td>\n",
              "      <td>SINGLE PROTEIN</td>\n",
              "      <td>7165</td>\n",
              "    </tr>\n",
              "    <tr>\n",
              "      <th>11</th>\n",
              "      <td>[]</td>\n",
              "      <td>Nephotettix cincticeps</td>\n",
              "      <td>Ace-orthologous acetylcholinesterase</td>\n",
              "      <td>15.0</td>\n",
              "      <td>False</td>\n",
              "      <td>CHEMBL2366514</td>\n",
              "      <td>[{'accession': 'Q9NJH6', 'component_descriptio...</td>\n",
              "      <td>SINGLE PROTEIN</td>\n",
              "      <td>94400</td>\n",
              "    </tr>\n",
              "    <tr>\n",
              "      <th>12</th>\n",
              "      <td>[]</td>\n",
              "      <td>Gallus gallus</td>\n",
              "      <td>Acetylcholinesterase</td>\n",
              "      <td>15.0</td>\n",
              "      <td>False</td>\n",
              "      <td>CHEMBL3227914</td>\n",
              "      <td>[{'accession': 'P36196', 'component_descriptio...</td>\n",
              "      <td>SINGLE PROTEIN</td>\n",
              "      <td>9031</td>\n",
              "    </tr>\n",
              "    <tr>\n",
              "      <th>13</th>\n",
              "      <td>[]</td>\n",
              "      <td>Danio rerio</td>\n",
              "      <td>Acetylcholinesterase</td>\n",
              "      <td>15.0</td>\n",
              "      <td>False</td>\n",
              "      <td>CHEMBL3308995</td>\n",
              "      <td>[{'accession': 'Q9DDE3', 'component_descriptio...</td>\n",
              "      <td>SINGLE PROTEIN</td>\n",
              "      <td>7955</td>\n",
              "    </tr>\n",
              "    <tr>\n",
              "      <th>14</th>\n",
              "      <td>[]</td>\n",
              "      <td>Aedes aegypti</td>\n",
              "      <td>Acetylcholinesterase</td>\n",
              "      <td>15.0</td>\n",
              "      <td>False</td>\n",
              "      <td>CHEMBL4295607</td>\n",
              "      <td>[{'accession': 'Q6A2E2', 'component_descriptio...</td>\n",
              "      <td>SINGLE PROTEIN</td>\n",
              "      <td>7159</td>\n",
              "    </tr>\n",
              "    <tr>\n",
              "      <th>15</th>\n",
              "      <td>[{'xref_id': 'Q95P20', 'xref_name': None, 'xre...</td>\n",
              "      <td>Musca domestica</td>\n",
              "      <td>Acetylcholinesterase</td>\n",
              "      <td>14.0</td>\n",
              "      <td>False</td>\n",
              "      <td>CHEMBL5752</td>\n",
              "      <td>[{'accession': 'Q95P20', 'component_descriptio...</td>\n",
              "      <td>SINGLE PROTEIN</td>\n",
              "      <td>7370</td>\n",
              "    </tr>\n",
              "    <tr>\n",
              "      <th>16</th>\n",
              "      <td>[]</td>\n",
              "      <td>Rattus norvegicus</td>\n",
              "      <td>Acetylcholinesterase and butyrylcholinesterase...</td>\n",
              "      <td>14.0</td>\n",
              "      <td>False</td>\n",
              "      <td>CHEMBL2111475</td>\n",
              "      <td>[{'accession': 'P37136', 'component_descriptio...</td>\n",
              "      <td>SELECTIVITY GROUP</td>\n",
              "      <td>10116</td>\n",
              "    </tr>\n",
              "    <tr>\n",
              "      <th>17</th>\n",
              "      <td>[]</td>\n",
              "      <td>Plutella xylostella</td>\n",
              "      <td>Acetylcholinesterase</td>\n",
              "      <td>14.0</td>\n",
              "      <td>False</td>\n",
              "      <td>CHEMBL2242729</td>\n",
              "      <td>[{'accession': 'Q8MZM0', 'component_descriptio...</td>\n",
              "      <td>SINGLE PROTEIN</td>\n",
              "      <td>51655</td>\n",
              "    </tr>\n",
              "    <tr>\n",
              "      <th>18</th>\n",
              "      <td>[]</td>\n",
              "      <td>Musca domestica</td>\n",
              "      <td>Acetylcholinesterase</td>\n",
              "      <td>14.0</td>\n",
              "      <td>False</td>\n",
              "      <td>CHEMBL2242743</td>\n",
              "      <td>[{'accession': 'Q7YWJ9', 'component_descriptio...</td>\n",
              "      <td>SINGLE PROTEIN</td>\n",
              "      <td>7370</td>\n",
              "    </tr>\n",
              "    <tr>\n",
              "      <th>19</th>\n",
              "      <td>[]</td>\n",
              "      <td>Pediculus humanus capitis</td>\n",
              "      <td>Acetylcholinesterase</td>\n",
              "      <td>14.0</td>\n",
              "      <td>False</td>\n",
              "      <td>CHEMBL2362988</td>\n",
              "      <td>[{'accession': 'A2PZ98', 'component_descriptio...</td>\n",
              "      <td>SINGLE PROTEIN</td>\n",
              "      <td>121226</td>\n",
              "    </tr>\n",
              "    <tr>\n",
              "      <th>20</th>\n",
              "      <td>[]</td>\n",
              "      <td>Spodoptera litura</td>\n",
              "      <td>Acetylcholinesterase</td>\n",
              "      <td>14.0</td>\n",
              "      <td>False</td>\n",
              "      <td>CHEMBL2366422</td>\n",
              "      <td>[{'accession': 'C5IU80', 'component_descriptio...</td>\n",
              "      <td>SINGLE PROTEIN</td>\n",
              "      <td>69820</td>\n",
              "    </tr>\n",
              "    <tr>\n",
              "      <th>21</th>\n",
              "      <td>[]</td>\n",
              "      <td>Laodelphax striatella</td>\n",
              "      <td>Acetylcholinesterase</td>\n",
              "      <td>14.0</td>\n",
              "      <td>False</td>\n",
              "      <td>CHEMBL2366446</td>\n",
              "      <td>[{'accession': 'K4JQ36', 'component_descriptio...</td>\n",
              "      <td>SINGLE PROTEIN</td>\n",
              "      <td>195883</td>\n",
              "    </tr>\n",
              "    <tr>\n",
              "      <th>22</th>\n",
              "      <td>[]</td>\n",
              "      <td>Schizaphis graminum</td>\n",
              "      <td>Acetylcholinesterase</td>\n",
              "      <td>14.0</td>\n",
              "      <td>False</td>\n",
              "      <td>CHEMBL2366511</td>\n",
              "      <td>[{'accession': 'Q9BMJ1', 'component_descriptio...</td>\n",
              "      <td>SINGLE PROTEIN</td>\n",
              "      <td>13262</td>\n",
              "    </tr>\n",
              "    <tr>\n",
              "      <th>23</th>\n",
              "      <td>[]</td>\n",
              "      <td>Caenorhabditis elegans</td>\n",
              "      <td>Acetylcholinesterase 1</td>\n",
              "      <td>14.0</td>\n",
              "      <td>False</td>\n",
              "      <td>CHEMBL3341583</td>\n",
              "      <td>[{'accession': 'P38433', 'component_descriptio...</td>\n",
              "      <td>SINGLE PROTEIN</td>\n",
              "      <td>6239</td>\n",
              "    </tr>\n",
              "  </tbody>\n",
              "</table>\n",
              "</div>\n",
              "    <div class=\"colab-df-buttons\">\n",
              "\n",
              "  <div class=\"colab-df-container\">\n",
              "    <button class=\"colab-df-convert\" onclick=\"convertToInteractive('df-78e4785a-76f9-4878-aab4-859b150c7bf2')\"\n",
              "            title=\"Convert this dataframe to an interactive table.\"\n",
              "            style=\"display:none;\">\n",
              "\n",
              "  <svg xmlns=\"http://www.w3.org/2000/svg\" height=\"24px\" viewBox=\"0 -960 960 960\">\n",
              "    <path d=\"M120-120v-720h720v720H120Zm60-500h600v-160H180v160Zm220 220h160v-160H400v160Zm0 220h160v-160H400v160ZM180-400h160v-160H180v160Zm440 0h160v-160H620v160ZM180-180h160v-160H180v160Zm440 0h160v-160H620v160Z\"/>\n",
              "  </svg>\n",
              "    </button>\n",
              "\n",
              "  <style>\n",
              "    .colab-df-container {\n",
              "      display:flex;\n",
              "      gap: 12px;\n",
              "    }\n",
              "\n",
              "    .colab-df-convert {\n",
              "      background-color: #E8F0FE;\n",
              "      border: none;\n",
              "      border-radius: 50%;\n",
              "      cursor: pointer;\n",
              "      display: none;\n",
              "      fill: #1967D2;\n",
              "      height: 32px;\n",
              "      padding: 0 0 0 0;\n",
              "      width: 32px;\n",
              "    }\n",
              "\n",
              "    .colab-df-convert:hover {\n",
              "      background-color: #E2EBFA;\n",
              "      box-shadow: 0px 1px 2px rgba(60, 64, 67, 0.3), 0px 1px 3px 1px rgba(60, 64, 67, 0.15);\n",
              "      fill: #174EA6;\n",
              "    }\n",
              "\n",
              "    .colab-df-buttons div {\n",
              "      margin-bottom: 4px;\n",
              "    }\n",
              "\n",
              "    [theme=dark] .colab-df-convert {\n",
              "      background-color: #3B4455;\n",
              "      fill: #D2E3FC;\n",
              "    }\n",
              "\n",
              "    [theme=dark] .colab-df-convert:hover {\n",
              "      background-color: #434B5C;\n",
              "      box-shadow: 0px 1px 3px 1px rgba(0, 0, 0, 0.15);\n",
              "      filter: drop-shadow(0px 1px 2px rgba(0, 0, 0, 0.3));\n",
              "      fill: #FFFFFF;\n",
              "    }\n",
              "  </style>\n",
              "\n",
              "    <script>\n",
              "      const buttonEl =\n",
              "        document.querySelector('#df-78e4785a-76f9-4878-aab4-859b150c7bf2 button.colab-df-convert');\n",
              "      buttonEl.style.display =\n",
              "        google.colab.kernel.accessAllowed ? 'block' : 'none';\n",
              "\n",
              "      async function convertToInteractive(key) {\n",
              "        const element = document.querySelector('#df-78e4785a-76f9-4878-aab4-859b150c7bf2');\n",
              "        const dataTable =\n",
              "          await google.colab.kernel.invokeFunction('convertToInteractive',\n",
              "                                                    [key], {});\n",
              "        if (!dataTable) return;\n",
              "\n",
              "        const docLinkHtml = 'Like what you see? Visit the ' +\n",
              "          '<a target=\"_blank\" href=https://colab.research.google.com/notebooks/data_table.ipynb>data table notebook</a>'\n",
              "          + ' to learn more about interactive tables.';\n",
              "        element.innerHTML = '';\n",
              "        dataTable['output_type'] = 'display_data';\n",
              "        await google.colab.output.renderOutput(dataTable, element);\n",
              "        const docLink = document.createElement('div');\n",
              "        docLink.innerHTML = docLinkHtml;\n",
              "        element.appendChild(docLink);\n",
              "      }\n",
              "    </script>\n",
              "  </div>\n",
              "\n",
              "\n",
              "<div id=\"df-992d0861-8c15-4010-a173-c5760ad06f40\">\n",
              "  <button class=\"colab-df-quickchart\" onclick=\"quickchart('df-992d0861-8c15-4010-a173-c5760ad06f40')\"\n",
              "            title=\"Suggest charts\"\n",
              "            style=\"display:none;\">\n",
              "\n",
              "<svg xmlns=\"http://www.w3.org/2000/svg\" height=\"24px\"viewBox=\"0 0 24 24\"\n",
              "     width=\"24px\">\n",
              "    <g>\n",
              "        <path d=\"M19 3H5c-1.1 0-2 .9-2 2v14c0 1.1.9 2 2 2h14c1.1 0 2-.9 2-2V5c0-1.1-.9-2-2-2zM9 17H7v-7h2v7zm4 0h-2V7h2v10zm4 0h-2v-4h2v4z\"/>\n",
              "    </g>\n",
              "</svg>\n",
              "  </button>\n",
              "\n",
              "<style>\n",
              "  .colab-df-quickchart {\n",
              "      --bg-color: #E8F0FE;\n",
              "      --fill-color: #1967D2;\n",
              "      --hover-bg-color: #E2EBFA;\n",
              "      --hover-fill-color: #174EA6;\n",
              "      --disabled-fill-color: #AAA;\n",
              "      --disabled-bg-color: #DDD;\n",
              "  }\n",
              "\n",
              "  [theme=dark] .colab-df-quickchart {\n",
              "      --bg-color: #3B4455;\n",
              "      --fill-color: #D2E3FC;\n",
              "      --hover-bg-color: #434B5C;\n",
              "      --hover-fill-color: #FFFFFF;\n",
              "      --disabled-bg-color: #3B4455;\n",
              "      --disabled-fill-color: #666;\n",
              "  }\n",
              "\n",
              "  .colab-df-quickchart {\n",
              "    background-color: var(--bg-color);\n",
              "    border: none;\n",
              "    border-radius: 50%;\n",
              "    cursor: pointer;\n",
              "    display: none;\n",
              "    fill: var(--fill-color);\n",
              "    height: 32px;\n",
              "    padding: 0;\n",
              "    width: 32px;\n",
              "  }\n",
              "\n",
              "  .colab-df-quickchart:hover {\n",
              "    background-color: var(--hover-bg-color);\n",
              "    box-shadow: 0 1px 2px rgba(60, 64, 67, 0.3), 0 1px 3px 1px rgba(60, 64, 67, 0.15);\n",
              "    fill: var(--button-hover-fill-color);\n",
              "  }\n",
              "\n",
              "  .colab-df-quickchart-complete:disabled,\n",
              "  .colab-df-quickchart-complete:disabled:hover {\n",
              "    background-color: var(--disabled-bg-color);\n",
              "    fill: var(--disabled-fill-color);\n",
              "    box-shadow: none;\n",
              "  }\n",
              "\n",
              "  .colab-df-spinner {\n",
              "    border: 2px solid var(--fill-color);\n",
              "    border-color: transparent;\n",
              "    border-bottom-color: var(--fill-color);\n",
              "    animation:\n",
              "      spin 1s steps(1) infinite;\n",
              "  }\n",
              "\n",
              "  @keyframes spin {\n",
              "    0% {\n",
              "      border-color: transparent;\n",
              "      border-bottom-color: var(--fill-color);\n",
              "      border-left-color: var(--fill-color);\n",
              "    }\n",
              "    20% {\n",
              "      border-color: transparent;\n",
              "      border-left-color: var(--fill-color);\n",
              "      border-top-color: var(--fill-color);\n",
              "    }\n",
              "    30% {\n",
              "      border-color: transparent;\n",
              "      border-left-color: var(--fill-color);\n",
              "      border-top-color: var(--fill-color);\n",
              "      border-right-color: var(--fill-color);\n",
              "    }\n",
              "    40% {\n",
              "      border-color: transparent;\n",
              "      border-right-color: var(--fill-color);\n",
              "      border-top-color: var(--fill-color);\n",
              "    }\n",
              "    60% {\n",
              "      border-color: transparent;\n",
              "      border-right-color: var(--fill-color);\n",
              "    }\n",
              "    80% {\n",
              "      border-color: transparent;\n",
              "      border-right-color: var(--fill-color);\n",
              "      border-bottom-color: var(--fill-color);\n",
              "    }\n",
              "    90% {\n",
              "      border-color: transparent;\n",
              "      border-bottom-color: var(--fill-color);\n",
              "    }\n",
              "  }\n",
              "</style>\n",
              "\n",
              "  <script>\n",
              "    async function quickchart(key) {\n",
              "      const quickchartButtonEl =\n",
              "        document.querySelector('#' + key + ' button');\n",
              "      quickchartButtonEl.disabled = true;  // To prevent multiple clicks.\n",
              "      quickchartButtonEl.classList.add('colab-df-spinner');\n",
              "      try {\n",
              "        const charts = await google.colab.kernel.invokeFunction(\n",
              "            'suggestCharts', [key], {});\n",
              "      } catch (error) {\n",
              "        console.error('Error during call to suggestCharts:', error);\n",
              "      }\n",
              "      quickchartButtonEl.classList.remove('colab-df-spinner');\n",
              "      quickchartButtonEl.classList.add('colab-df-quickchart-complete');\n",
              "    }\n",
              "    (() => {\n",
              "      let quickchartButtonEl =\n",
              "        document.querySelector('#df-992d0861-8c15-4010-a173-c5760ad06f40 button');\n",
              "      quickchartButtonEl.style.display =\n",
              "        google.colab.kernel.accessAllowed ? 'block' : 'none';\n",
              "    })();\n",
              "  </script>\n",
              "</div>\n",
              "\n",
              "  <div id=\"id_fe0abe68-34c9-434a-9601-543d0b55a554\">\n",
              "    <style>\n",
              "      .colab-df-generate {\n",
              "        background-color: #E8F0FE;\n",
              "        border: none;\n",
              "        border-radius: 50%;\n",
              "        cursor: pointer;\n",
              "        display: none;\n",
              "        fill: #1967D2;\n",
              "        height: 32px;\n",
              "        padding: 0 0 0 0;\n",
              "        width: 32px;\n",
              "      }\n",
              "\n",
              "      .colab-df-generate:hover {\n",
              "        background-color: #E2EBFA;\n",
              "        box-shadow: 0px 1px 2px rgba(60, 64, 67, 0.3), 0px 1px 3px 1px rgba(60, 64, 67, 0.15);\n",
              "        fill: #174EA6;\n",
              "      }\n",
              "\n",
              "      [theme=dark] .colab-df-generate {\n",
              "        background-color: #3B4455;\n",
              "        fill: #D2E3FC;\n",
              "      }\n",
              "\n",
              "      [theme=dark] .colab-df-generate:hover {\n",
              "        background-color: #434B5C;\n",
              "        box-shadow: 0px 1px 3px 1px rgba(0, 0, 0, 0.15);\n",
              "        filter: drop-shadow(0px 1px 2px rgba(0, 0, 0, 0.3));\n",
              "        fill: #FFFFFF;\n",
              "      }\n",
              "    </style>\n",
              "    <button class=\"colab-df-generate\" onclick=\"generateWithVariable('targets')\"\n",
              "            title=\"Generate code using this dataframe.\"\n",
              "            style=\"display:none;\">\n",
              "\n",
              "  <svg xmlns=\"http://www.w3.org/2000/svg\" height=\"24px\"viewBox=\"0 0 24 24\"\n",
              "       width=\"24px\">\n",
              "    <path d=\"M7,19H8.4L18.45,9,17,7.55,7,17.6ZM5,21V16.75L18.45,3.32a2,2,0,0,1,2.83,0l1.4,1.43a1.91,1.91,0,0,1,.58,1.4,1.91,1.91,0,0,1-.58,1.4L9.25,21ZM18.45,9,17,7.55Zm-12,3A5.31,5.31,0,0,0,4.9,8.1,5.31,5.31,0,0,0,1,6.5,5.31,5.31,0,0,0,4.9,4.9,5.31,5.31,0,0,0,6.5,1,5.31,5.31,0,0,0,8.1,4.9,5.31,5.31,0,0,0,12,6.5,5.46,5.46,0,0,0,6.5,12Z\"/>\n",
              "  </svg>\n",
              "    </button>\n",
              "    <script>\n",
              "      (() => {\n",
              "      const buttonEl =\n",
              "        document.querySelector('#id_fe0abe68-34c9-434a-9601-543d0b55a554 button.colab-df-generate');\n",
              "      buttonEl.style.display =\n",
              "        google.colab.kernel.accessAllowed ? 'block' : 'none';\n",
              "\n",
              "      buttonEl.onclick = () => {\n",
              "        google.colab.notebook.generateWithVariable('targets');\n",
              "      }\n",
              "      })();\n",
              "    </script>\n",
              "  </div>\n",
              "\n",
              "    </div>\n",
              "  </div>\n"
            ],
            "application/vnd.google.colaboratory.intrinsic+json": {
              "type": "dataframe",
              "variable_name": "targets",
              "summary": "{\n  \"name\": \"targets\",\n  \"rows\": 24,\n  \"fields\": [\n    {\n      \"column\": \"cross_references\",\n      \"properties\": {\n        \"dtype\": \"object\",\n        \"semantic_type\": \"\",\n        \"description\": \"\"\n      }\n    },\n    {\n      \"column\": \"organism\",\n      \"properties\": {\n        \"dtype\": \"string\",\n        \"num_unique_values\": 21,\n        \"samples\": [\n          \"Homo sapiens\",\n          \"Spodoptera litura\",\n          \"Plutella xylostella\"\n        ],\n        \"semantic_type\": \"\",\n        \"description\": \"\"\n      }\n    },\n    {\n      \"column\": \"pref_name\",\n      \"properties\": {\n        \"dtype\": \"category\",\n        \"num_unique_values\": 6,\n        \"samples\": [\n          \"Acetylcholinesterase\",\n          \"Cholinesterases; ACHE & BCHE\",\n          \"Acetylcholinesterase 1\"\n        ],\n        \"semantic_type\": \"\",\n        \"description\": \"\"\n      }\n    },\n    {\n      \"column\": \"score\",\n      \"properties\": {\n        \"dtype\": \"number\",\n        \"std\": 3.832545602742575,\n        \"min\": 14.0,\n        \"max\": 28.0,\n        \"num_unique_values\": 5,\n        \"samples\": [\n          18.0,\n          14.0,\n          16.0\n        ],\n        \"semantic_type\": \"\",\n        \"description\": \"\"\n      }\n    },\n    {\n      \"column\": \"species_group_flag\",\n      \"properties\": {\n        \"dtype\": \"boolean\",\n        \"num_unique_values\": 1,\n        \"samples\": [\n          false\n        ],\n        \"semantic_type\": \"\",\n        \"description\": \"\"\n      }\n    },\n    {\n      \"column\": \"target_chembl_id\",\n      \"properties\": {\n        \"dtype\": \"string\",\n        \"num_unique_values\": 24,\n        \"samples\": [\n          \"CHEMBL4078\"\n        ],\n        \"semantic_type\": \"\",\n        \"description\": \"\"\n      }\n    },\n    {\n      \"column\": \"target_components\",\n      \"properties\": {\n        \"dtype\": \"object\",\n        \"semantic_type\": \"\",\n        \"description\": \"\"\n      }\n    },\n    {\n      \"column\": \"target_type\",\n      \"properties\": {\n        \"dtype\": \"category\",\n        \"num_unique_values\": 2,\n        \"samples\": [\n          \"SELECTIVITY GROUP\"\n        ],\n        \"semantic_type\": \"\",\n        \"description\": \"\"\n      }\n    },\n    {\n      \"column\": \"tax_id\",\n      \"properties\": {\n        \"dtype\": \"number\",\n        \"std\": 46998,\n        \"min\": 6239,\n        \"max\": 195883,\n        \"num_unique_values\": 21,\n        \"samples\": [\n          9606\n        ],\n        \"semantic_type\": \"\",\n        \"description\": \"\"\n      }\n    }\n  ]\n}"
            }
          },
          "metadata": {},
          "execution_count": 3
        }
      ]
    },
    {
      "cell_type": "markdown",
      "metadata": {
        "id": "Y5OPfEALjAfZ"
      },
      "source": [
        "### **Select and retrieve bioactivity data for *Human Acetylcholinesterase* (first entry)**"
      ]
    },
    {
      "cell_type": "markdown",
      "metadata": {
        "id": "gSQ3aroOgML7"
      },
      "source": [
        "We will assign the fifth entry (which corresponds to the target protein, *Human Acetylcholinesterase*) to the ***selected_target*** variable"
      ]
    },
    {
      "cell_type": "code",
      "metadata": {
        "id": "StrcHMVLha7u",
        "outputId": "91aea4c0-1cf0-4ed7-9479-a649da514c33",
        "colab": {
          "base_uri": "https://localhost:8080/",
          "height": 35
        }
      },
      "source": [
        "selected_target = targets.target_chembl_id[0]\n",
        "selected_target"
      ],
      "execution_count": null,
      "outputs": [
        {
          "output_type": "execute_result",
          "data": {
            "text/plain": [
              "'CHEMBL220'"
            ],
            "application/vnd.google.colaboratory.intrinsic+json": {
              "type": "string"
            }
          },
          "metadata": {},
          "execution_count": 4
        }
      ]
    },
    {
      "cell_type": "markdown",
      "metadata": {
        "id": "GWd2DRalgjzB"
      },
      "source": [
        "Here, we will retrieve only bioactivity data for *Human Acetylcholinesterase* (CHEMBL220) that are reported as pChEMBL values."
      ]
    },
    {
      "cell_type": "code",
      "metadata": {
        "id": "LeFbV_CsSP8D"
      },
      "source": [
        "\n",
        "activity = new_client.activity\n",
        "res = activity.filter(target_chembl_id=selected_target).filter(standard_type=\"IC50\")"
      ],
      "execution_count": null,
      "outputs": []
    },
    {
      "cell_type": "code",
      "metadata": {
        "id": "LrzAcEFnYzBY"
      },
      "source": [
        "df = pd.DataFrame.from_dict(res)"
      ],
      "execution_count": null,
      "outputs": []
    },
    {
      "cell_type": "code",
      "metadata": {
        "id": "s9iUAXFdSkoM"
      },
      "source": [
        "df"
      ],
      "execution_count": null,
      "outputs": []
    },
    {
      "cell_type": "markdown",
      "metadata": {
        "id": "fQ78N26Fg15T"
      },
      "source": [
        "Finally we will save the resulting bioactivity data to a CSV file **bioactivity_data.csv**."
      ]
    },
    {
      "cell_type": "code",
      "metadata": {
        "id": "ZvUUEIVxTOH1"
      },
      "source": [
        "df.to_csv('acetylcholinesterase_01_bioactivity_data_raw.csv', index=False)"
      ],
      "execution_count": null,
      "outputs": []
    },
    {
      "cell_type": "markdown",
      "metadata": {
        "id": "_GXMpFNUOn_8"
      },
      "source": [
        "## **Handling missing data**\n",
        "If any compounds has missing value for the **standard_value** and **canonical_smiles** column then drop it."
      ]
    },
    {
      "cell_type": "code",
      "metadata": {
        "id": "hkVOdk6ZR396"
      },
      "source": [
        "df2 = df[df.standard_value.notna()]\n",
        "df2 = df2[df.canonical_smiles.notna()]\n",
        "df2"
      ],
      "execution_count": null,
      "outputs": []
    },
    {
      "cell_type": "code",
      "metadata": {
        "id": "wCkuaeVNbdtM"
      },
      "source": [
        "len(df2.canonical_smiles.unique())"
      ],
      "execution_count": null,
      "outputs": []
    },
    {
      "cell_type": "code",
      "metadata": {
        "id": "JbAK3K7wclkS"
      },
      "source": [
        "df2_nr = df2.drop_duplicates(['canonical_smiles'])\n",
        "df2_nr"
      ],
      "execution_count": null,
      "outputs": []
    },
    {
      "cell_type": "markdown",
      "metadata": {
        "id": "5H4sSFAWhV9B"
      },
      "source": [
        "## **Data pre-processing of the bioactivity data**"
      ]
    },
    {
      "cell_type": "markdown",
      "metadata": {
        "id": "Nv2dzid_hzKd"
      },
      "source": [
        "### **Combine the 3 columns (molecule_chembl_id,canonical_smiles,standard_value) and bioactivity_class into a DataFrame**"
      ]
    },
    {
      "cell_type": "code",
      "metadata": {
        "id": "0NCLYmrASgha"
      },
      "source": [
        "selection = ['molecule_chembl_id','canonical_smiles','standard_value']\n",
        "df3 = df2_nr[selection]\n",
        "df3"
      ],
      "execution_count": null,
      "outputs": []
    },
    {
      "cell_type": "markdown",
      "metadata": {
        "id": "d0ObVWGmkj_L"
      },
      "source": [
        "Saves dataframe to CSV file"
      ]
    },
    {
      "cell_type": "code",
      "metadata": {
        "id": "pAzJTVu4kMd_"
      },
      "source": [
        "df3.to_csv('acetylcholinesterase_02_bioactivity_data_preprocessed.csv', index=False)"
      ],
      "execution_count": null,
      "outputs": []
    },
    {
      "cell_type": "markdown",
      "metadata": {
        "id": "tO22XVlzhkXR"
      },
      "source": [
        "### **Labeling compounds as either being active, inactive or intermediate**\n",
        "The bioactivity data is in the IC50 unit. Compounds having values of less than 1000 nM will be considered to be **active** while those greater than 10,000 nM will be considered to be **inactive**. As for those values in between 1,000 and 10,000 nM will be referred to as **intermediate**."
      ]
    },
    {
      "cell_type": "code",
      "metadata": {
        "id": "Ck9Z2M9CkRy_"
      },
      "source": [
        "df4 = pd.read_csv('acetylcholinesterase_02_bioactivity_data_preprocessed.csv')"
      ],
      "execution_count": null,
      "outputs": []
    },
    {
      "cell_type": "code",
      "metadata": {
        "id": "1E8rz7oMOd-5"
      },
      "source": [
        "bioactivity_threshold = []\n",
        "for i in df4.standard_value:\n",
        "  if float(i) >= 10000:\n",
        "    bioactivity_threshold.append(\"inactive\")\n",
        "  elif float(i) <= 1000:\n",
        "    bioactivity_threshold.append(\"active\")\n",
        "  else:\n",
        "    bioactivity_threshold.append(\"intermediate\")"
      ],
      "execution_count": null,
      "outputs": []
    },
    {
      "cell_type": "code",
      "metadata": {
        "id": "Li64nUiZQ-y2"
      },
      "source": [
        "bioactivity_class = pd.Series(bioactivity_threshold, name='class')\n",
        "df5 = pd.concat([df4, bioactivity_class], axis=1)\n",
        "df5"
      ],
      "execution_count": null,
      "outputs": []
    },
    {
      "cell_type": "markdown",
      "metadata": {
        "id": "9tlgyexWh7YJ"
      },
      "source": [
        "Saves dataframe to CSV file"
      ]
    },
    {
      "cell_type": "code",
      "metadata": {
        "id": "nSNia7suXstR"
      },
      "source": [
        "df5.to_csv('acetylcholinesterase_03_bioactivity_data_curated.csv', index=False)"
      ],
      "execution_count": null,
      "outputs": []
    },
    {
      "cell_type": "code",
      "metadata": {
        "id": "0eCQTu9MnzyH"
      },
      "source": [
        "! zip acetylcholinesterase.zip *.csv"
      ],
      "execution_count": null,
      "outputs": []
    },
    {
      "cell_type": "code",
      "metadata": {
        "id": "UuZf5-MEd-H5"
      },
      "source": [
        "! ls -l"
      ],
      "execution_count": null,
      "outputs": []
    },
    {
      "cell_type": "markdown",
      "metadata": {
        "id": "ZywB5K_Dlawb"
      },
      "source": [
        "---"
      ]
    }
  ]
}